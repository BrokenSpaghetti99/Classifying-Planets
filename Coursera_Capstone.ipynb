{
    "cells": [
        {
            "metadata": {
                "collapsed": true
            },
            "cell_type": "markdown",
            "source": "# Problem"
        },
        {
            "metadata": {},
            "cell_type": "markdown",
            "source": "It's a rainy weekend in San Francisco and you're sitting at a table across from your three best friends, spit-balling dreams of owning your own bar. You don't know much about what you have to do logistically to acquire or build a bar, but you and your friends seem to have millions of ideas for the types of drinks and atmosphere that would make your bar the best in the city. You have a heated debate over the optimal neighborhood for setting up shop, but you can all agree that you would like it to be located in a safer part of the city and in a spot where people already tend to hang out. So, what factors should you analyze to determine the best place in the city to start your dream bar, and how do you do it? This report outlines some basic assumptions, data sets, and analysis that can inform your decision when selecting the optimal neighborhood in San Francisco for opening a bar.\n\nThe target audience of this report would be anyone who wants to buy or build a bar in San Francisco, or anyone in San Francisco just looking for a nice area to grab a drink."
        },
        {
            "metadata": {},
            "cell_type": "code",
            "source": "",
            "execution_count": null,
            "outputs": []
        }
    ],
    "metadata": {
        "kernelspec": {
            "name": "python3",
            "display_name": "Python 3.6",
            "language": "python"
        },
        "language_info": {
            "name": "python",
            "version": "3.6.9",
            "mimetype": "text/x-python",
            "codemirror_mode": {
                "name": "ipython",
                "version": 3
            },
            "pygments_lexer": "ipython3",
            "nbconvert_exporter": "python",
            "file_extension": ".py"
        }
    },
    "nbformat": 4,
    "nbformat_minor": 1
}