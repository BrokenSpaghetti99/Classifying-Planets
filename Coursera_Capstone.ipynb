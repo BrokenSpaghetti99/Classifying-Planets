{
    "cells": [
        {
            "metadata": {
                "collapsed": true
            },
            "cell_type": "markdown",
            "source": "# Problem"
        },
        {
            "metadata": {},
            "cell_type": "markdown",
            "source": "Recently due to global warming and other catastrophic events the Earth does not seem to be a home to humans for long enough. So many people would like to leave this home and start a new life in a new home. This choice is basically for the rich people. So the problem is for the businessmen or entrepreneurs who would like to survey these rich people to clarify their opnions on leaving Earth. By this they can start working on their projects. But they dont know where to find them.  So this project will project will use the Foursquare API to search for residential loactions where the house rents are expensive and also near the NASA headquaarters across USA."
        }
    ],
    "metadata": {
        "kernelspec": {
            "name": "python3",
            "display_name": "Python 3.6",
            "language": "python"
        },
        "language_info": {
            "name": "python",
            "version": "3.6.9",
            "mimetype": "text/x-python",
            "codemirror_mode": {
                "name": "ipython",
                "version": 3
            },
            "pygments_lexer": "ipython3",
            "nbconvert_exporter": "python",
            "file_extension": ".py"
        }
    },
    "nbformat": 4,
    "nbformat_minor": 1
}