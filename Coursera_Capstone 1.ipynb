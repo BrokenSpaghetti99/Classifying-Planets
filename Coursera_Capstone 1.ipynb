{
    "cells": [
        {
            "metadata": {
                "collapsed": true
            },
            "cell_type": "markdown",
            "source": "# Solution and Data Info"
        },
        {
            "metadata": {},
            "cell_type": "markdown",
            "source": "In order to best make this decision, we're going to need some data. Fortunately, the city of San Francisco has hundreds of public data sets that describe various aspects of the city, and Foursquare API allows free access to some of its location and venue data.\n\nAltogether, we are looking at three sets of data for our analysis:\n\n1.    San Francisco Registered Business Data\n\n2.    San Francisco Crime Data\n\n3.    Foursquare Data"
        },
        {
            "metadata": {},
            "cell_type": "code",
            "source": "",
            "execution_count": null,
            "outputs": []
        }
    ],
    "metadata": {
        "kernelspec": {
            "name": "python3",
            "display_name": "Python 3.6",
            "language": "python"
        },
        "language_info": {
            "name": "python",
            "version": "3.6.9",
            "mimetype": "text/x-python",
            "codemirror_mode": {
                "name": "ipython",
                "version": 3
            },
            "pygments_lexer": "ipython3",
            "nbconvert_exporter": "python",
            "file_extension": ".py"
        }
    },
    "nbformat": 4,
    "nbformat_minor": 1
}